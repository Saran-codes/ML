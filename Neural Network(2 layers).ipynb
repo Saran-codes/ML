{
 "cells": [
  {
   "cell_type": "code",
   "execution_count": 3,
   "id": "c9cb341c",
   "metadata": {},
   "outputs": [],
   "source": [
    "import numpy as np\n",
    "import pandas as pd"
   ]
  },
  {
   "cell_type": "code",
   "execution_count": 4,
   "id": "c41d68a6",
   "metadata": {},
   "outputs": [],
   "source": [
    "emnist_train = pd.read_csv(\"/Users/jaladisaran/Downloads/emnist-letters-train.csv\")\n",
    "emnist_test = pd.read_csv(\"/Users/jaladisaran/Downloads/emnist-letters-test.csv\")"
   ]
  },
  {
   "cell_type": "code",
   "execution_count": 73,
   "id": "0fe72300",
   "metadata": {},
   "outputs": [],
   "source": [
    "train = emnist_train.to_numpy()\n",
    "test = emnist_test.to_numpy()"
   ]
  },
  {
   "cell_type": "code",
   "execution_count": 139,
   "id": "9e3891a0",
   "metadata": {},
   "outputs": [],
   "source": [
    "X_train = train[:,1:]\n",
    "X_test = test[:,1:]"
   ]
  },
  {
   "cell_type": "code",
   "execution_count": 140,
   "id": "77392cf3",
   "metadata": {},
   "outputs": [],
   "source": [
    "Y_train = train[:,0]\n",
    "Y_test = test[:,0]"
   ]
  },
  {
   "cell_type": "code",
   "execution_count": 141,
   "id": "ad352b83",
   "metadata": {},
   "outputs": [],
   "source": [
    "X_train=X_train/255\n",
    "X_test=X_test/255"
   ]
  },
  {
   "cell_type": "code",
   "execution_count": 142,
   "id": "587b485c",
   "metadata": {},
   "outputs": [
    {
     "data": {
      "text/plain": [
       "(88799, 26)"
      ]
     },
     "execution_count": 142,
     "metadata": {},
     "output_type": "execute_result"
    }
   ],
   "source": [
    "Z_train= np.zeros((X_train.shape[0],len(np.unique(Y_train))))\n",
    "Z_train.shape"
   ]
  },
  {
   "cell_type": "code",
   "execution_count": 143,
   "id": "f9abff91",
   "metadata": {},
   "outputs": [
    {
     "data": {
      "text/plain": [
       "array([[0., 0., 0., ..., 0., 0., 0.],\n",
       "       [0., 0., 0., ..., 0., 0., 0.],\n",
       "       [0., 0., 0., ..., 0., 0., 0.],\n",
       "       ...,\n",
       "       [1., 0., 0., ..., 0., 0., 0.],\n",
       "       [0., 0., 0., ..., 0., 0., 0.],\n",
       "       [0., 0., 0., ..., 0., 0., 0.]])"
      ]
     },
     "execution_count": 143,
     "metadata": {},
     "output_type": "execute_result"
    }
   ],
   "source": [
    "for i in range(X_train.shape[0]):\n",
    "    Z_train[i][Y_train[i]-1] = 1\n",
    "\n",
    "Z_train"
   ]
  },
  {
   "cell_type": "code",
   "execution_count": 144,
   "id": "18557dbd",
   "metadata": {},
   "outputs": [],
   "source": [
    "def function(X,W,b):\n",
    "    z = np.dot(X,W)+b\n",
    "    a = 1/(1+np.exp(-z))\n",
    "    return a\n",
    "\n",
    "def forward_prop(X,W1,b1,W2,b2):\n",
    "    H1 = function(X,W1,b1)\n",
    "    A  = function(H1,W2,b2)\n",
    "    return A,H1\n",
    "\n",
    "def err(A,Y):\n",
    "    err = A-Y\n",
    "    return err\n",
    "\n",
    "def dsig(A):\n",
    "    z = np.multiply(A,1-A)\n",
    "    return z\n",
    "\n",
    "def loss_function(X,Y,W1,b1,W2,b2):\n",
    "    m=X.shape[0]\n",
    "    a = forward_prop(X,W1,b1,W2,b2)[0]\n",
    "    f1 = np.log(a)\n",
    "    f2 = np.log(1-a)\n",
    "    loss = -np.sum(np.multiply(Y,f1)+np.multiply((1-Y),f2))\n",
    "    loss = loss/m\n",
    "    return loss\n",
    "\n",
    "def gradient_compute(X,Y,W1,b1,W2,b2):\n",
    "    A,H1 = forward_prop(X,W1,b1,W2,b2)\n",
    "    \n",
    "    m = X.shape[0]\n",
    "    dj_dw2 = np.dot(H1.T,np.multiply(err(A,Y),dsig(A)))/m\n",
    "    dj_db2 = np.sum(np.multiply(err(A,Y),dsig(A)),axis =0)/m\n",
    "    dj_dw1 = np.dot(X.T,np.multiply(np.dot(dj_db2,W2.T),dsig(H1)))/m\n",
    "    dj_db1 = np.sum(np.multiply(np.dot(dj_db2,W2.T),dsig(H1)),axis=0)/m\n",
    "    \n",
    "    return dj_dw2,dj_db2,dj_dw1,dj_db1\n",
    "\n",
    "def gradient_descent(X,Y,W1,b1,W2,b2,L,n):\n",
    "    \n",
    "    for i in range(n):\n",
    "        loss = loss_function(X,Y,W1,b1,W2,b2)\n",
    "        print(i,loss)\n",
    "        \n",
    "        dj_dw2 = gradient_compute(X,Y,W1,b1,W2,b2)[0]\n",
    "        dj_db2 = gradient_compute(X,Y,W1,b1,W2,b2)[1]\n",
    "        dj_dw1 = gradient_compute(X,Y,W1,b1,W2,b2)[2]\n",
    "        dj_db1 = gradient_compute(X,Y,W1,b1,W2,b2)[3]\n",
    "        \n",
    "        W2 = W2 - L*dj_dw2\n",
    "        W1 = W1 - L*dj_dw1\n",
    "        b2 = b2 - L*dj_db2\n",
    "        b1 = b1 - L*dj_db1\n",
    "        \n",
    "        \n",
    "    return W1,b1,W2,b2"
   ]
  },
  {
   "cell_type": "code",
   "execution_count": 305,
   "id": "d2bb4f4f",
   "metadata": {},
   "outputs": [],
   "source": [
    "n=52\n",
    "W1 = np.random.rand(X_train.shape[1],n)-0.5\n",
    "b1 = np.random.rand(n)-0.5\n",
    "W2 = np.random.rand(n,Z_train.shape[1])-0.5\n",
    "b2 = np.random.rand(Z_train.shape[1])-0.5"
   ]
  },
  {
   "cell_type": "code",
   "execution_count": 306,
   "id": "a910e9e2",
   "metadata": {
    "scrolled": false
   },
   "outputs": [
    {
     "name": "stdout",
     "output_type": "stream",
     "text": [
      "0 20.113518129830737\n",
      "1 12.128256530462753\n",
      "2 8.447870837100474\n",
      "3 6.830105301477419\n",
      "4 6.0753927136247325\n",
      "5 5.648602001732244\n",
      "6 5.373541813684724\n",
      "7 5.182257356439907\n",
      "8 5.042275374385433\n",
      "9 4.935978664935393\n",
      "10 4.852956337673967\n",
      "11 4.7866573851200584\n",
      "12 4.732754647791603\n",
      "13 4.688276776025336\n",
      "14 4.6511174287220065\n",
      "15 4.619743180007364\n",
      "16 4.5930121677628515\n",
      "17 4.570057411399356\n",
      "18 4.5502094137317695\n",
      "19 4.532943447397474\n",
      "20 4.517842814173151\n",
      "21 4.504572709619562\n",
      "22 4.492861291445612\n",
      "23 4.482485741399072\n",
      "24 4.4732618522481244\n",
      "25 4.465036144495141\n",
      "26 4.457679825804327\n",
      "27 4.45108411108134\n",
      "28 4.44515655983706\n",
      "29 4.439818182867803\n",
      "30 4.4350011368967\n",
      "31 4.430646872978811\n",
      "32 4.426704638286962\n",
      "33 4.423130255430162\n",
      "34 4.419885121455426\n",
      "35 4.416935382024046\n",
      "36 4.414251246235676\n",
      "37 4.4118064151111795\n",
      "38 4.409577602483876\n",
      "39 4.40754413145407\n",
      "40 4.405687592967112\n",
      "41 4.403991555728029\n",
      "42 4.402441318744272\n",
      "43 4.40102369942877\n",
      "44 4.399726851496726\n",
      "45 4.398540107928623\n",
      "46 4.397453845105399\n",
      "47 4.396459364894191\n",
      "48 4.395548792007959\n",
      "49 4.394714984406072\n",
      "50 4.393951454866059\n",
      "51 4.393252302154733\n",
      "52 4.392612150472987\n",
      "53 4.3920260960522945\n",
      "54 4.391489659950102\n",
      "55 4.390998746232464\n",
      "56 4.39054960485084\n",
      "57 4.390138798618774\n",
      "58 4.389763173778207\n",
      "59 4.389419833715684\n",
      "60 4.389106115448698\n",
      "61 4.388819568553301\n",
      "62 4.388557936247715\n",
      "63 4.38831913838354\n",
      "64 4.388101256128133\n",
      "65 4.387902518149082\n",
      "66 4.387721288135059\n",
      "67 4.387556053507837\n",
      "68 4.387405415197695\n",
      "69 4.387268078369731\n",
      "70 4.387142844001757\n",
      "71 4.387028601226148\n",
      "72 4.386924320357804\n",
      "73 4.386829046539451\n",
      "74 4.386741893942919\n",
      "75 4.386662040472025\n",
      "76 4.386588722918478\n",
      "77 4.38652123252744\n",
      "78 4.386458910934063\n",
      "79 4.386401146436354\n",
      "80 4.386347370573165\n",
      "81 4.386297054979658\n",
      "82 4.386249708494914\n",
      "83 4.386204874499398\n",
      "84 4.386162128461721\n",
      "85 4.386121075676613\n",
      "86 4.386081349177353\n",
      "87 4.386042607807837\n",
      "88 4.386004534440698\n",
      "89 4.385966834329166\n",
      "90 4.385929233581642\n",
      "91 4.3858914777487525\n",
      "92 4.385853330513846\n",
      "93 4.38581457247844\n",
      "94 4.385775000035089\n",
      "95 4.385734424320758\n",
      "96 4.385692670244252\n",
      "97 4.385649575582096\n",
      "98 4.385604990137445\n",
      "99 4.385558774957234\n"
     ]
    }
   ],
   "source": [
    "W1_final,b1_final,W2_final,b2_final = gradient_descent(X_train,Z_train,W1,b1,W2,b2,0.5,100)"
   ]
  },
  {
   "cell_type": "code",
   "execution_count": 307,
   "id": "aef21452",
   "metadata": {},
   "outputs": [
    {
     "data": {
      "text/plain": [
       "(14799, 26)"
      ]
     },
     "execution_count": 307,
     "metadata": {},
     "output_type": "execute_result"
    }
   ],
   "source": [
    "NN_output = forward_prop(X_test,W1_final,b1_final,W2_final,b2_final)[0]\n",
    "NN_output.shape"
   ]
  },
  {
   "cell_type": "code",
   "execution_count": 308,
   "id": "c282adcf",
   "metadata": {},
   "outputs": [
    {
     "data": {
      "text/plain": [
       "array([[0., 1., 0., ..., 0., 0., 0.],\n",
       "       [0., 0., 0., ..., 0., 0., 0.],\n",
       "       [0., 0., 0., ..., 0., 0., 0.],\n",
       "       ...,\n",
       "       [0., 0., 0., ..., 0., 0., 0.],\n",
       "       [0., 0., 0., ..., 0., 0., 0.],\n",
       "       [0., 0., 0., ..., 0., 1., 0.]])"
      ]
     },
     "execution_count": 308,
     "metadata": {},
     "output_type": "execute_result"
    }
   ],
   "source": [
    "max = NN_output.max(axis=1)\n",
    "for i in range(X_test.shape[0]):\n",
    "    for j in range(len(np.unique(Y_train))):\n",
    "        if NN_output[i][j] == max[i]:\n",
    "            NN_output[i][j] = 1\n",
    "        else:\n",
    "            NN_output[i][j] = 0\n",
    "            \n",
    "NN_output"
   ]
  },
  {
   "cell_type": "code",
   "execution_count": 309,
   "id": "c4079874",
   "metadata": {},
   "outputs": [
    {
     "data": {
      "text/plain": [
       "array([ 2, 23, 22, ..., 15, 23, 25])"
      ]
     },
     "execution_count": 309,
     "metadata": {},
     "output_type": "execute_result"
    }
   ],
   "source": [
    "NN_predicted = np.empty_like(Y_test)\n",
    "for i in range(X_test.shape[0]):\n",
    "    for j in range(len(np.unique(Y_train))):\n",
    "        if NN_output[i][j]==1:\n",
    "            NN_predicted[i]=j+1\n",
    "            \n",
    "NN_predicted\n"
   ]
  },
  {
   "cell_type": "code",
   "execution_count": 310,
   "id": "cb4e2355",
   "metadata": {},
   "outputs": [],
   "source": [
    "def accuracy(yout,ytest):\n",
    "    m = yout.shape[0]\n",
    "    count=0\n",
    "    for i in range(m):\n",
    "        if yout[i]==ytest[i]:\n",
    "            count+=1\n",
    "            \n",
    "    acc = count/m*100\n",
    "    return acc"
   ]
  },
  {
   "cell_type": "code",
   "execution_count": 311,
   "id": "14c23e68",
   "metadata": {},
   "outputs": [
    {
     "data": {
      "text/plain": [
       "6.811271031826474"
      ]
     },
     "execution_count": 311,
     "metadata": {},
     "output_type": "execute_result"
    }
   ],
   "source": [
    "accuracy(NN_predicted,Y_test)"
   ]
  },
  {
   "cell_type": "code",
   "execution_count": null,
   "id": "55bbc17d",
   "metadata": {},
   "outputs": [],
   "source": []
  }
 ],
 "metadata": {
  "kernelspec": {
   "display_name": "Python 3 (ipykernel)",
   "language": "python",
   "name": "python3"
  },
  "language_info": {
   "codemirror_mode": {
    "name": "ipython",
    "version": 3
   },
   "file_extension": ".py",
   "mimetype": "text/x-python",
   "name": "python",
   "nbconvert_exporter": "python",
   "pygments_lexer": "ipython3",
   "version": "3.9.10"
  }
 },
 "nbformat": 4,
 "nbformat_minor": 5
}
