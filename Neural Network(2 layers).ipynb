{
 "cells": [
  {
   "cell_type": "code",
   "execution_count": 1,
   "id": "f299626c",
   "metadata": {},
   "outputs": [],
   "source": [
    "import numpy as np\n",
    "import pandas as pd"
   ]
  },
  {
   "cell_type": "code",
   "execution_count": 2,
   "id": "3532197d",
   "metadata": {},
   "outputs": [],
   "source": [
    "emnist_train = pd.read_csv(\"/Users/jaladisaran/Downloads/emnist-letters-train.csv\")\n",
    "emnist_test = pd.read_csv(\"/Users/jaladisaran/Downloads/emnist-letters-test.csv\")"
   ]
  },
  {
   "cell_type": "code",
   "execution_count": 3,
   "id": "d4cf1fc3",
   "metadata": {},
   "outputs": [],
   "source": [
    "train = emnist_train.to_numpy()\n",
    "test = emnist_test.to_numpy()"
   ]
  },
  {
   "cell_type": "code",
   "execution_count": 4,
   "id": "1017125b",
   "metadata": {},
   "outputs": [],
   "source": [
    "X_train = train[:,1:]\n",
    "X_test = test[:,1:]"
   ]
  },
  {
   "cell_type": "code",
   "execution_count": 5,
   "id": "63cdd184",
   "metadata": {},
   "outputs": [],
   "source": [
    "Y_train = train[:,0]\n",
    "Y_test = test[:,0]"
   ]
  },
  {
   "cell_type": "code",
   "execution_count": 6,
   "id": "a9fa3cf8",
   "metadata": {},
   "outputs": [],
   "source": [
    "X_train=X_train/255\n",
    "X_test=X_test/255"
   ]
  },
  {
   "cell_type": "code",
   "execution_count": 7,
   "id": "874aca4f",
   "metadata": {},
   "outputs": [
    {
     "data": {
      "text/plain": [
       "(88799, 26)"
      ]
     },
     "execution_count": 7,
     "metadata": {},
     "output_type": "execute_result"
    }
   ],
   "source": [
    "Z_train= np.zeros((X_train.shape[0],len(np.unique(Y_train))))\n",
    "Z_train.shape"
   ]
  },
  {
   "cell_type": "code",
   "execution_count": 8,
   "id": "454f2198",
   "metadata": {},
   "outputs": [
    {
     "data": {
      "text/plain": [
       "array([[0., 0., 0., ..., 0., 0., 0.],\n",
       "       [0., 0., 0., ..., 0., 0., 0.],\n",
       "       [0., 0., 0., ..., 0., 0., 0.],\n",
       "       ...,\n",
       "       [1., 0., 0., ..., 0., 0., 0.],\n",
       "       [0., 0., 0., ..., 0., 0., 0.],\n",
       "       [0., 0., 0., ..., 0., 0., 0.]])"
      ]
     },
     "execution_count": 8,
     "metadata": {},
     "output_type": "execute_result"
    }
   ],
   "source": [
    "for i in range(X_train.shape[0]):\n",
    "    Z_train[i][Y_train[i]-1] = 1\n",
    "\n",
    "Z_train"
   ]
  },
  {
   "cell_type": "code",
   "execution_count": 55,
   "id": "f87f2bb1",
   "metadata": {},
   "outputs": [],
   "source": [
    "def function(X,W,b):\n",
    "    z = np.dot(X,W)+b\n",
    "    a = 1/(1+np.exp(-z))\n",
    "    return a\n",
    "\n",
    "def forward_prop(X,W1,b1,W2,b2):\n",
    "    H1 = function(X,W1,b1)\n",
    "    A  = function(H1,W2,b2)\n",
    "    return A,H1\n",
    "\n",
    "def err(A,Y):\n",
    "    err = A-Y\n",
    "    return err\n",
    "\n",
    "def dsig(A):\n",
    "    z = np.multiply(A,1-A)\n",
    "    return z\n",
    "\n",
    "def loss_function(X,Y,W1,b1,W2,b2):\n",
    "    m=X.shape[0]\n",
    "    a = forward_prop(X,W1,b1,W2,b2)[0]\n",
    "    f1 = np.log(a)\n",
    "    f2 = np.log(1-a)\n",
    "    loss = -np.sum(np.multiply(Y,f1)+np.multiply((1-Y),f2))\n",
    "    loss = loss/m\n",
    "    return loss\n",
    "\n",
    "def gradient_compute(X,Y,W1,b1,W2,b2):\n",
    "    A,H1 = forward_prop(X,W1,b1,W2,b2)\n",
    "    \n",
    "    m = X.shape[0]\n",
    "    dj_dw2 = np.dot(H1.T,np.multiply(err(A,Y),dsig(A)))/m\n",
    "    dj_db2 = np.sum(np.multiply(err(A,Y),dsig(A)),axis =0)/m\n",
    "    dj_dw1 = np.dot(X.T,np.multiply(np.dot(dj_db2,W2.T),dsig(H1)))/m\n",
    "    dj_db1 = np.sum(np.multiply(np.dot(dj_db2,W2.T),dsig(H1)),axis=0)/m\n",
    "    \n",
    "    return dj_dw2,dj_db2,dj_dw1,dj_db1\n",
    "\n",
    "def gradient_descent(X,Y,W1,b1,W2,b2,L,n):\n",
    "    \n",
    "    for i in range(n):\n",
    "        \n",
    "        dj_dw2 = gradient_compute(X,Y,W1,b1,W2,b2)[0]\n",
    "        dj_db2 = gradient_compute(X,Y,W1,b1,W2,b2)[1]\n",
    "        dj_dw1 = gradient_compute(X,Y,W1,b1,W2,b2)[2]\n",
    "        dj_db1 = gradient_compute(X,Y,W1,b1,W2,b2)[3]\n",
    "        \n",
    "        W2 = W2 - L*dj_dw2\n",
    "        W1 = W1 - L*dj_dw1\n",
    "        b2 = b2 - L*dj_db2\n",
    "        b1 = b1 - L*dj_db1\n",
    "        \n",
    "        loss = loss_function(X,Y,W1,b1,W2,b2)\n",
    "        print(i,loss)\n",
    "        \n",
    "    return W1,b1,W2,b2"
   ]
  },
  {
   "cell_type": "code",
   "execution_count": 129,
   "id": "b59f9188",
   "metadata": {},
   "outputs": [],
   "source": [
    "n=26\n",
    "W1 = np.random.rand(X_train.shape[1],n)-0.5\n",
    "b1 = np.random.rand(n)-0.5\n",
    "W2 = np.random.rand(n,Z_train.shape[1])-0.5\n",
    "b2 = np.random.rand(Z_train.shape[1])-0.5"
   ]
  },
  {
   "cell_type": "code",
   "execution_count": 130,
   "id": "4e0b0180",
   "metadata": {},
   "outputs": [
    {
     "name": "stdout",
     "output_type": "stream",
     "text": [
      "0 22.48596217845759\n",
      "1 22.446854778798713\n",
      "2 22.407828537371344\n",
      "3 22.368883500584115\n",
      "4 22.330019712976416\n",
      "5 22.291237217224126\n",
      "6 22.252536054145377\n",
      "7 22.213916262706523\n",
      "8 22.17537788002821\n",
      "9 22.136920941391455\n",
      "10 22.098545480243995\n",
      "11 22.060251528206624\n",
      "12 22.022039115079448\n",
      "13 21.983908268848854\n",
      "14 21.94585901569371\n",
      "15 21.907891379992414\n",
      "16 21.87000538432967\n",
      "17 21.83220104950338\n",
      "18 21.794478394531755\n",
      "19 21.756837436660376\n",
      "20 21.719278191369458\n",
      "21 21.681800672381137\n",
      "22 21.64440489166686\n",
      "23 21.607090859454917\n",
      "24 21.569858584237956\n",
      "25 21.53270807278062\n",
      "26 21.495639330127364\n",
      "27 21.458652359610102\n",
      "28 21.421747162856374\n",
      "29 21.384923739797074\n",
      "30 21.34818208867454\n",
      "31 21.311522206050785\n",
      "32 21.274944086815633\n",
      "33 21.238447724194952\n",
      "34 21.20203310975901\n",
      "35 21.165700233430943\n",
      "36 21.129449083495196\n",
      "37 21.093279646606074\n",
      "38 21.057191907796277\n",
      "39 21.02118585048576\n",
      "40 20.98526145649028\n",
      "41 20.94941870603031\n",
      "42 20.913657577739816\n",
      "43 20.87797804867528\n",
      "44 20.8423800943246\n",
      "45 20.806863688616115\n",
      "46 20.771428803927744\n",
      "47 20.736075411096135\n",
      "48 20.700803479425705\n",
      "49 20.665612976698075\n",
      "50 20.630503869181236\n",
      "51 20.59547612163905\n",
      "52 20.5605296973403\n",
      "53 20.525664558068488\n",
      "54 20.490880664131126\n",
      "55 20.456177974369197\n",
      "56 20.421556446166893\n",
      "57 20.387016035461023\n",
      "58 20.35255669675078\n",
      "59 20.3181783831073\n",
      "60 20.283881046183463\n",
      "61 20.249664636223628\n",
      "62 20.21552910207326\n",
      "63 20.181474391189003\n",
      "64 20.147500449648206\n",
      "65 20.113607222159075\n",
      "66 20.079794652070305\n",
      "67 20.046062681381212\n",
      "68 20.01241125075159\n",
      "69 19.978840299511642\n",
      "70 19.945349765672013\n",
      "71 19.91193958593382\n",
      "72 19.878609695698675\n",
      "73 19.845360029078673\n",
      "74 19.812190518906572\n",
      "75 19.779101096745787\n",
      "76 19.746091692900606\n",
      "77 19.713162236426143\n",
      "78 19.68031265513863\n",
      "79 19.64754287562546\n",
      "80 19.614852823255397\n",
      "81 19.582242422188713\n",
      "82 19.549711595387322\n",
      "83 19.517260264625115\n",
      "84 19.48488835049796\n",
      "85 19.452595772433988\n",
      "86 19.42038244870376\n",
      "87 19.388248296430532\n",
      "88 19.35619323160043\n",
      "89 19.324217169072583\n",
      "90 19.29232002258939\n",
      "91 19.26050170478672\n",
      "92 19.22876212720418\n",
      "93 19.19710120029519\n",
      "94 19.165518833437194\n",
      "95 19.13401493494198\n",
      "96 19.10258941206572\n",
      "97 19.07124217101924\n",
      "98 19.039973116978125\n",
      "99 19.008782154092913\n"
     ]
    }
   ],
   "source": [
    "W1_final,b1_final,W2_final,b2_final = gradient_descent(X_train,Z_train,W1,b1,W2,b2,0.001,100)"
   ]
  },
  {
   "cell_type": "code",
   "execution_count": 131,
   "id": "54fbd0e9",
   "metadata": {},
   "outputs": [
    {
     "data": {
      "text/plain": [
       "(14799, 26)"
      ]
     },
     "execution_count": 131,
     "metadata": {},
     "output_type": "execute_result"
    }
   ],
   "source": [
    "NN_output = forward_prop(X_test,W1_final,b1_final,W2_final,b2_final)[0]\n",
    "NN_output.shape"
   ]
  },
  {
   "cell_type": "code",
   "execution_count": 132,
   "id": "b5e8980c",
   "metadata": {},
   "outputs": [
    {
     "data": {
      "text/plain": [
       "array([[0., 0., 0., ..., 0., 0., 0.],\n",
       "       [0., 0., 0., ..., 0., 0., 0.],\n",
       "       [0., 0., 0., ..., 0., 0., 0.],\n",
       "       ...,\n",
       "       [0., 0., 0., ..., 0., 0., 0.],\n",
       "       [0., 0., 0., ..., 0., 0., 0.],\n",
       "       [0., 0., 0., ..., 0., 0., 0.]])"
      ]
     },
     "execution_count": 132,
     "metadata": {},
     "output_type": "execute_result"
    }
   ],
   "source": [
    "max = NN_output.max(axis=1)\n",
    "for i in range(X_test.shape[0]):\n",
    "    for j in range(len(np.unique(Y_train))):\n",
    "        if NN_output[i][j] == max[i]:\n",
    "            NN_output[i][j] = 1\n",
    "        else:\n",
    "            NN_output[i][j] = 0\n",
    "            \n",
    "NN_output"
   ]
  },
  {
   "cell_type": "code",
   "execution_count": 133,
   "id": "d0f04b6a",
   "metadata": {},
   "outputs": [
    {
     "data": {
      "text/plain": [
       "array([6, 6, 6, ..., 6, 6, 6])"
      ]
     },
     "execution_count": 133,
     "metadata": {},
     "output_type": "execute_result"
    }
   ],
   "source": [
    "NN_predicted = np.empty_like(Y_test)\n",
    "for i in range(X_test.shape[0]):\n",
    "    for j in range(len(np.unique(Y_train))):\n",
    "        if NN_output[i][j]==1:\n",
    "            NN_predicted[i]=j+1\n",
    "            \n",
    "NN_predicted\n"
   ]
  },
  {
   "cell_type": "code",
   "execution_count": 134,
   "id": "b034d3b0",
   "metadata": {},
   "outputs": [],
   "source": [
    "def accuracy(yout,ytest):\n",
    "    m = yout.shape[0]\n",
    "    count=0\n",
    "    for i in range(m):\n",
    "        if yout[i]==ytest[i]:\n",
    "            count+=1\n",
    "            \n",
    "    acc = count/m*100\n",
    "    return acc"
   ]
  },
  {
   "cell_type": "code",
   "execution_count": 135,
   "id": "e2945173",
   "metadata": {},
   "outputs": [
    {
     "data": {
      "text/plain": [
       "5.405770660179742"
      ]
     },
     "execution_count": 135,
     "metadata": {},
     "output_type": "execute_result"
    }
   ],
   "source": [
    "accuracy(NN_predicted,Y_test)"
   ]
  },
  {
   "cell_type": "code",
   "execution_count": 136,
   "id": "9eb7c6df",
   "metadata": {},
   "outputs": [],
   "source": [
    "count = 0\n",
    "for i in NN_predicted:\n",
    "    if i==12:\n",
    "        count+=1"
   ]
  },
  {
   "cell_type": "code",
   "execution_count": 137,
   "id": "08310882",
   "metadata": {},
   "outputs": [
    {
     "data": {
      "text/plain": [
       "0"
      ]
     },
     "execution_count": 137,
     "metadata": {},
     "output_type": "execute_result"
    }
   ],
   "source": [
    "count"
   ]
  },
  {
   "cell_type": "code",
   "execution_count": 138,
   "id": "7f47a05f",
   "metadata": {},
   "outputs": [
    {
     "data": {
      "text/plain": [
       "(88799, 26)"
      ]
     },
     "execution_count": 138,
     "metadata": {},
     "output_type": "execute_result"
    }
   ],
   "source": [
    "Z_train.shape"
   ]
  },
  {
   "cell_type": "code",
   "execution_count": null,
   "id": "3407daf8",
   "metadata": {},
   "outputs": [],
   "source": []
  }
 ],
 "metadata": {
  "kernelspec": {
   "display_name": "Python 3 (ipykernel)",
   "language": "python",
   "name": "python3"
  },
  "language_info": {
   "codemirror_mode": {
    "name": "ipython",
    "version": 3
   },
   "file_extension": ".py",
   "mimetype": "text/x-python",
   "name": "python",
   "nbconvert_exporter": "python",
   "pygments_lexer": "ipython3",
   "version": "3.9.10"
  }
 },
 "nbformat": 4,
 "nbformat_minor": 5
}
